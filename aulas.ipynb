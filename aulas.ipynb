{
  "nbformat": 4,
  "nbformat_minor": 0,
  "metadata": {
    "colab": {
      "provenance": [],
      "include_colab_link": true
    },
    "kernelspec": {
      "name": "python3",
      "display_name": "Python 3"
    },
    "language_info": {
      "name": "python"
    }
  },
  "cells": [
    {
      "cell_type": "markdown",
      "metadata": {
        "id": "view-in-github",
        "colab_type": "text"
      },
      "source": [
        "<a href=\"https://colab.research.google.com/github/tiago-py/python-projects/blob/main/aulas.ipynb\" target=\"_parent\"><img src=\"https://colab.research.google.com/assets/colab-badge.svg\" alt=\"Open In Colab\"/></a>"
      ]
    },
    {
      "cell_type": "code",
      "source": [
        "#compreensão em listas: \n",
        "\n",
        "nome = \"Tiago\"\n",
        "lista = []\n",
        "for i in nome:\n",
        "  lista.append(i)\n",
        "\n",
        "#isso acima é igual a:\n",
        "lista = [i for i in nome] #isso é bom para deixar o código mais limpo e o sistema mais leve.\n",
        "print(lista)\n"
      ],
      "metadata": {
        "colab": {
          "base_uri": "https://localhost:8080/"
        },
        "id": "OPXabXqkoyZm",
        "outputId": "379741ac-037a-47b0-c40c-95cabd5575df"
      },
      "execution_count": null,
      "outputs": [
        {
          "output_type": "stream",
          "name": "stdout",
          "text": [
            "['T', 'i', 'a', 'g', 'o']\n"
          ]
        }
      ]
    },
    {
      "cell_type": "code",
      "source": [
        "#função parar imprimir numeros impares, funciona da seguinte maneira: ela retorna os numeros se o resto da divisão por 2 for igual a 1, de acordo com a quantidade de numeros que o usuario solicitou.\n",
        "\n",
        "def gera_impar(x):\n",
        "  return[i for i in range(x) if i % 2 == 1]\n",
        "\n",
        "#função parar imprimir numeros pares, funciona da seguinte maneira: ela retorna os numeros se o resto da divisão por 2 for igual a 0, de acordo com a quantidade de numeros que o usuario solicitou.\n",
        "\n",
        "def gera_par(y):\n",
        "  return[i for i in range(y) if i %2 == 0]\n",
        "gera_par(10)\n",
        "\n"
      ],
      "metadata": {
        "colab": {
          "base_uri": "https://localhost:8080/"
        },
        "id": "S3J_KHY8pG2t",
        "outputId": "8a6a4e4a-2884-4d10-854f-8dadfc48313f"
      },
      "execution_count": null,
      "outputs": [
        {
          "output_type": "execute_result",
          "data": {
            "text/plain": [
              "[0, 2, 4, 6, 8]"
            ]
          },
          "metadata": {},
          "execution_count": 4
        }
      ]
    },
    {
      "cell_type": "code",
      "source": [],
      "metadata": {
        "id": "s2MyeSnwAooc"
      },
      "execution_count": null,
      "outputs": []
    },
    {
      "cell_type": "code",
      "source": [
        "gera_impar(10)"
      ],
      "metadata": {
        "id": "pfMFBa6VqPQe",
        "colab": {
          "base_uri": "https://localhost:8080/"
        },
        "outputId": "cfe76dd9-de6d-44a8-fab7-87060ad8305a"
      },
      "execution_count": null,
      "outputs": [
        {
          "output_type": "execute_result",
          "data": {
            "text/plain": [
              "[1, 3, 5, 7, 9]"
            ]
          },
          "metadata": {},
          "execution_count": 3
        }
      ]
    },
    {
      "cell_type": "code",
      "source": [
        "class teste:\n",
        "  nome = \"Tiago\"\n",
        "  lista = [i for i in nome]\n",
        "  print(lista)\n",
        "  "
      ],
      "metadata": {
        "colab": {
          "base_uri": "https://localhost:8080/"
        },
        "id": "fomFviL5Ia8r",
        "outputId": "6414b65d-24b9-45ab-cfcc-947ee87d3255"
      },
      "execution_count": null,
      "outputs": [
        {
          "output_type": "stream",
          "name": "stdout",
          "text": [
            "['T', 'i', 'a', 'g', 'o']\n"
          ]
        }
      ]
    },
    {
      "cell_type": "code",
      "source": [
        "class impar:\n",
        "  def gera_impar(x):\n",
        "    return[i for i in range(x) if i % 2 == 1 ] \n",
        "  print(gera_impar(10))     "
      ],
      "metadata": {
        "colab": {
          "base_uri": "https://localhost:8080/"
        },
        "id": "he6JfThNovBg",
        "outputId": "a9ac1bb3-f9c4-4d87-b58e-8e5b4df98348"
      },
      "execution_count": null,
      "outputs": [
        {
          "output_type": "stream",
          "name": "stdout",
          "text": [
            "[1, 3, 5, 7, 9]\n"
          ]
        }
      ]
    },
    {
      "cell_type": "code",
      "source": [
        "def add_num(num1, num2):\n",
        "  return num1+num2\n",
        "add_num(10, 20)  \n",
        "\n"
      ],
      "metadata": {
        "colab": {
          "base_uri": "https://localhost:8080/"
        },
        "id": "1Loft8-cA5wo",
        "outputId": "869ac3c6-556f-4099-b763-26317ac4284c"
      },
      "execution_count": null,
      "outputs": [
        {
          "output_type": "execute_result",
          "data": {
            "text/plain": [
              "30"
            ]
          },
          "metadata": {},
          "execution_count": 6
        }
      ]
    },
    {
      "cell_type": "code",
      "source": [
        "#função lambda(útil para fazer funções simples com uma linha de código)\n",
        "\n",
        "def mult(x):\n",
        "  return x**2\n",
        "\n",
        "#a função acima faz a mesma coisa que a função a baixo, porém a de baixo utiliza apenas uma linha de código\n",
        "a = lambda x: x**2\n",
        "type(a)\n",
        "mult(100)"
      ],
      "metadata": {
        "colab": {
          "base_uri": "https://localhost:8080/"
        },
        "id": "BxQlDJvWA9ZM",
        "outputId": "173e6a68-40d8-447b-9bac-7a438cb08551"
      },
      "execution_count": null,
      "outputs": [
        {
          "output_type": "execute_result",
          "data": {
            "text/plain": [
              "10000"
            ]
          },
          "metadata": {},
          "execution_count": 9
        }
      ]
    },
    {
      "cell_type": "code",
      "source": [
        "a = lambda x,y: x+y\n",
        "a(5,10)"
      ],
      "metadata": {
        "colab": {
          "base_uri": "https://localhost:8080/"
        },
        "id": "3VdggK9mDTev",
        "outputId": "23c0ce53-80f9-47f5-aa1b-ba6d7d8141ef"
      },
      "execution_count": null,
      "outputs": [
        {
          "output_type": "execute_result",
          "data": {
            "text/plain": [
              "15"
            ]
          },
          "metadata": {},
          "execution_count": 3
        }
      ]
    },
    {
      "cell_type": "code",
      "source": [
        "import logging "
      ],
      "metadata": {
        "id": "vvIw43BEGc9H"
      },
      "execution_count": 1,
      "outputs": []
    },
    {
      "cell_type": "code",
      "source": [],
      "metadata": {
        "id": "zDF8bTNG5nwP"
      },
      "execution_count": null,
      "outputs": []
    }
  ]
}